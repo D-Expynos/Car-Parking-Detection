import cv2
import pickle

# Load parking image
img = cv2.imread("../data/raw/carParkImg.png")
parking_positions = []

def select_parking_space(event, x, y, flags, param):
    global parking_positions
    if event == cv2.EVENT_LBUTTONDOWN:
        parking_positions.append((x, y, 50, 30))  # Assuming 50x30 as slot size

cv2.imshow("Select Parking Spaces", img)
cv2.setMouseCallback("Select Parking Spaces", select_parking_space)

while True:
    key = cv2.waitKey(1) & 0xFF
    if key == ord("s"):  # Save selected positions
        with open("../data/processed/parking_positions.pkl", "wb") as f:
            pickle.dump(parking_positions, f)
        break

cv2.destroyAllWindows()
